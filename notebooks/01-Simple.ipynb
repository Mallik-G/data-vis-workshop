{
 "cells": [
  {
   "cell_type": "markdown",
   "metadata": {},
   "source": [
    "# Simple Visualisation\n",
    "\n",
    "Lets start with the basic exercise with simple data"
   ]
  },
  {
   "cell_type": "markdown",
   "metadata": {},
   "source": [
    "## Imports "
   ]
  },
  {
   "cell_type": "code",
   "execution_count": 2,
   "metadata": {},
   "outputs": [],
   "source": [
    "import numpy as np\n",
    "import pandas as pd\n",
    "import altair as alt\n",
    "import matplotlib.pyplot as plt"
   ]
  },
  {
   "cell_type": "markdown",
   "metadata": {},
   "source": [
    "## Rendering Options"
   ]
  },
  {
   "cell_type": "code",
   "execution_count": 3,
   "metadata": {},
   "outputs": [],
   "source": [
    "%matplotlib inline"
   ]
  },
  {
   "cell_type": "markdown",
   "metadata": {},
   "source": [
    "For altair people\n",
    "- If you are running, jupyter lab / colab - dont need need anything else\n",
    "- If you are running jupyter notebook, then enable notebook renderer"
   ]
  },
  {
   "cell_type": "code",
   "execution_count": 9,
   "metadata": {},
   "outputs": [],
   "source": [
    "# Only for Jupyter Notebook\n",
    "# alt.renderers.enable('notebook')"
   ]
  },
  {
   "cell_type": "markdown",
   "metadata": {},
   "source": [
    "## Data"
   ]
  },
  {
   "cell_type": "code",
   "execution_count": 12,
   "metadata": {},
   "outputs": [
    {
     "data": {
      "text/html": [
       "<div>\n",
       "<style scoped>\n",
       "    .dataframe tbody tr th:only-of-type {\n",
       "        vertical-align: middle;\n",
       "    }\n",
       "\n",
       "    .dataframe tbody tr th {\n",
       "        vertical-align: top;\n",
       "    }\n",
       "\n",
       "    .dataframe thead th {\n",
       "        text-align: right;\n",
       "    }\n",
       "</style>\n",
       "<table border=\"1\" class=\"dataframe\">\n",
       "  <thead>\n",
       "    <tr style=\"text-align: right;\">\n",
       "      <th></th>\n",
       "      <th>area</th>\n",
       "      <th>sales</th>\n",
       "      <th>profit</th>\n",
       "    </tr>\n",
       "  </thead>\n",
       "  <tbody>\n",
       "    <tr>\n",
       "      <td>0</td>\n",
       "      <td>North</td>\n",
       "      <td>5</td>\n",
       "      <td>2</td>\n",
       "    </tr>\n",
       "    <tr>\n",
       "      <td>1</td>\n",
       "      <td>East</td>\n",
       "      <td>25</td>\n",
       "      <td>8</td>\n",
       "    </tr>\n",
       "    <tr>\n",
       "      <td>2</td>\n",
       "      <td>West</td>\n",
       "      <td>15</td>\n",
       "      <td>6</td>\n",
       "    </tr>\n",
       "    <tr>\n",
       "      <td>3</td>\n",
       "      <td>South</td>\n",
       "      <td>20</td>\n",
       "      <td>5</td>\n",
       "    </tr>\n",
       "    <tr>\n",
       "      <td>4</td>\n",
       "      <td>Central</td>\n",
       "      <td>10</td>\n",
       "      <td>3</td>\n",
       "    </tr>\n",
       "  </tbody>\n",
       "</table>\n",
       "</div>"
      ],
      "text/plain": [
       "      area  sales  profit\n",
       "0    North      5       2\n",
       "1     East     25       8\n",
       "2     West     15       6\n",
       "3    South     20       5\n",
       "4  Central     10       3"
      ]
     },
     "execution_count": 12,
     "metadata": {},
     "output_type": "execute_result"
    }
   ],
   "source": [
    "sample = pd.read_csv(\"data/sample.csv\")\n",
    "sample"
   ]
  },
  {
   "cell_type": "code",
   "execution_count": 13,
   "metadata": {},
   "outputs": [
    {
     "data": {
      "text/plain": [
       "(5, 3)"
      ]
     },
     "execution_count": 13,
     "metadata": {},
     "output_type": "execute_result"
    }
   ],
   "source": [
    "sample.shape"
   ]
  },
  {
   "cell_type": "markdown",
   "metadata": {},
   "source": [
    "## Visualisation Grammar\n",
    "\n",
    "- Data: Raw dataset\n",
    "- Mark: Geometrics Shape: Point, Circle\n",
    "- Encoding Channels: X, Y, Shape, Color, Size, ...."
   ]
  },
  {
   "cell_type": "markdown",
   "metadata": {},
   "source": [
    "### Create Chart Object and add data"
   ]
  },
  {
   "cell_type": "code",
   "execution_count": 16,
   "metadata": {},
   "outputs": [],
   "source": [
    "vis = alt.Chart(sample)"
   ]
  },
  {
   "cell_type": "markdown",
   "metadata": {},
   "source": [
    "### Mark & Encoding"
   ]
  },
  {
   "cell_type": "code",
   "execution_count": 17,
   "metadata": {},
   "outputs": [
    {
     "data": {
      "application/vnd.vegalite.v3+json": {
       "$schema": "https://vega.github.io/schema/vega-lite/v3.4.0.json",
       "config": {
        "mark": {
         "tooltip": null
        },
        "view": {
         "height": 300,
         "width": 400
        }
       },
       "data": {
        "name": "data-e9a1bf97bac3c6f8642dc2ef7d8e4b49"
       },
       "datasets": {
        "data-e9a1bf97bac3c6f8642dc2ef7d8e4b49": [
         {
          "area": "North",
          "profit": 2,
          "sales": 5
         },
         {
          "area": "East",
          "profit": 8,
          "sales": 25
         },
         {
          "area": "West",
          "profit": 6,
          "sales": 15
         },
         {
          "area": "South",
          "profit": 5,
          "sales": 20
         },
         {
          "area": "Central",
          "profit": 3,
          "sales": 10
         }
        ]
       },
       "mark": "point"
      },
      "image/png": "[encoded data removed]",
      "text/plain": [
       "<VegaLite 3 object>\n",
       "\n",
       "If you see this message, it means the renderer has not been properly enabled\n",
       "for the frontend that you are using. For more information, see\n",
       "https://altair-viz.github.io/user_guide/troubleshooting.html\n"
      ]
     },
     "execution_count": 17,
     "metadata": {},
     "output_type": "execute_result"
    }
   ],
   "source": [
    "alt.Chart(sample).mark_point()"
   ]
  },
  {
   "cell_type": "code",
   "execution_count": 20,
   "metadata": {},
   "outputs": [
    {
     "data": {
      "text/plain": [
       "area      object\n",
       "sales      int64\n",
       "profit     int64\n",
       "dtype: object"
      ]
     },
     "execution_count": 20,
     "metadata": {},
     "output_type": "execute_result"
    }
   ],
   "source": [
    "sample.dtypes"
   ]
  },
  {
   "cell_type": "code",
   "execution_count": 19,
   "metadata": {},
   "outputs": [
    {
     "data": {
      "application/vnd.vegalite.v3+json": {
       "$schema": "https://vega.github.io/schema/vega-lite/v3.4.0.json",
       "config": {
        "mark": {
         "tooltip": null
        },
        "view": {
         "height": 300,
         "width": 400
        }
       },
       "data": {
        "name": "data-e9a1bf97bac3c6f8642dc2ef7d8e4b49"
       },
       "datasets": {
        "data-e9a1bf97bac3c6f8642dc2ef7d8e4b49": [
         {
          "area": "North",
          "profit": 2,
          "sales": 5
         },
         {
          "area": "East",
          "profit": 8,
          "sales": 25
         },
         {
          "area": "West",
          "profit": 6,
          "sales": 15
         },
         {
          "area": "South",
          "profit": 5,
          "sales": 20
         },
         {
          "area": "Central",
          "profit": 3,
          "sales": 10
         }
        ]
       },
       "encoding": {
        "y": {
         "field": "area",
         "type": "nominal"
        }
       },
       "mark": "point"
      },
      "image/png": "[encoded data removed]",
      "text/plain": [
       "<VegaLite 3 object>\n",
       "\n",
       "If you see this message, it means the renderer has not been properly enabled\n",
       "for the frontend that you are using. For more information, see\n",
       "https://altair-viz.github.io/user_guide/troubleshooting.html\n"
      ]
     },
     "execution_count": 19,
     "metadata": {},
     "output_type": "execute_result"
    }
   ],
   "source": [
    "alt.Chart(sample).mark_point().encode(y = \"area\")"
   ]
  },
  {
   "cell_type": "code",
   "execution_count": 21,
   "metadata": {},
   "outputs": [
    {
     "data": {
      "application/vnd.vegalite.v3+json": {
       "$schema": "https://vega.github.io/schema/vega-lite/v3.4.0.json",
       "config": {
        "mark": {
         "tooltip": null
        },
        "view": {
         "height": 300,
         "width": 400
        }
       },
       "data": {
        "name": "data-e9a1bf97bac3c6f8642dc2ef7d8e4b49"
       },
       "datasets": {
        "data-e9a1bf97bac3c6f8642dc2ef7d8e4b49": [
         {
          "area": "North",
          "profit": 2,
          "sales": 5
         },
         {
          "area": "East",
          "profit": 8,
          "sales": 25
         },
         {
          "area": "West",
          "profit": 6,
          "sales": 15
         },
         {
          "area": "South",
          "profit": 5,
          "sales": 20
         },
         {
          "area": "Central",
          "profit": 3,
          "sales": 10
         }
        ]
       },
       "encoding": {
        "x": {
         "field": "sales",
         "type": "quantitative"
        },
        "y": {
         "field": "area",
         "type": "nominal"
        }
       },
       "mark": "point"
      },
      "image/png": "[encoded data removed]",
      "text/plain": [
       "<VegaLite 3 object>\n",
       "\n",
       "If you see this message, it means the renderer has not been properly enabled\n",
       "for the frontend that you are using. For more information, see\n",
       "https://altair-viz.github.io/user_guide/troubleshooting.html\n"
      ]
     },
     "execution_count": 21,
     "metadata": {},
     "output_type": "execute_result"
    }
   ],
   "source": [
    "alt.Chart(sample).mark_point().encode(\n",
    "    y = \"area\",\n",
    "    x = \"sales\"\n",
    ")"
   ]
  },
  {
   "cell_type": "markdown",
   "metadata": {},
   "source": [
    "### Marks\n",
    "\n",
    "- bar\n",
    "- point\n",
    "- circle\n",
    "- line"
   ]
  },
  {
   "cell_type": "code",
   "execution_count": 32,
   "metadata": {},
   "outputs": [
    {
     "data": {
      "application/vnd.vegalite.v3+json": {
       "$schema": "https://vega.github.io/schema/vega-lite/v3.4.0.json",
       "config": {
        "mark": {
         "tooltip": null
        },
        "view": {
         "height": 300,
         "width": 400
        }
       },
       "data": {
        "name": "data-e9a1bf97bac3c6f8642dc2ef7d8e4b49"
       },
       "datasets": {
        "data-e9a1bf97bac3c6f8642dc2ef7d8e4b49": [
         {
          "area": "North",
          "profit": 2,
          "sales": 5
         },
         {
          "area": "East",
          "profit": 8,
          "sales": 25
         },
         {
          "area": "West",
          "profit": 6,
          "sales": 15
         },
         {
          "area": "South",
          "profit": 5,
          "sales": 20
         },
         {
          "area": "Central",
          "profit": 3,
          "sales": 10
         }
        ]
       },
       "encoding": {
        "x": {
         "field": "area",
         "type": "nominal"
        },
        "y": {
         "field": "sales",
         "type": "quantitative"
        }
       },
       "mark": "bar"
      },
      "image/png": "[encoded data removed]",
      "text/plain": [
       "<VegaLite 3 object>\n",
       "\n",
       "If you see this message, it means the renderer has not been properly enabled\n",
       "for the frontend that you are using. For more information, see\n",
       "https://altair-viz.github.io/user_guide/troubleshooting.html\n"
      ]
     },
     "execution_count": 32,
     "metadata": {},
     "output_type": "execute_result"
    }
   ],
   "source": [
    "alt.Chart(sample).mark_bar().encode(\n",
    "    x = \"area:N\",\n",
    "    y = \"sales:Q\"\n",
    ")"
   ]
  },
  {
   "cell_type": "markdown",
   "metadata": {},
   "source": [
    "### Encoding\n",
    "\n",
    "- Position Channels: X, Y, X2, Y2\n",
    "- Color\n",
    "- Size\n",
    "- Shape\n",
    "- ..."
   ]
  },
  {
   "cell_type": "code",
   "execution_count": 34,
   "metadata": {},
   "outputs": [
    {
     "data": {
      "application/vnd.vegalite.v3+json": {
       "$schema": "https://vega.github.io/schema/vega-lite/v3.4.0.json",
       "config": {
        "mark": {
         "tooltip": null
        },
        "view": {
         "height": 300,
         "width": 400
        }
       },
       "data": {
        "name": "data-e9a1bf97bac3c6f8642dc2ef7d8e4b49"
       },
       "datasets": {
        "data-e9a1bf97bac3c6f8642dc2ef7d8e4b49": [
         {
          "area": "North",
          "profit": 2,
          "sales": 5
         },
         {
          "area": "East",
          "profit": 8,
          "sales": 25
         },
         {
          "area": "West",
          "profit": 6,
          "sales": 15
         },
         {
          "area": "South",
          "profit": 5,
          "sales": 20
         },
         {
          "area": "Central",
          "profit": 3,
          "sales": 10
         }
        ]
       },
       "encoding": {
        "color": {
         "field": "area",
         "type": "nominal"
        },
        "x": {
         "field": "sales",
         "type": "quantitative"
        },
        "y": {
         "field": "area",
         "type": "nominal"
        }
       },
       "mark": "bar"
      },
      "image/png": "[encoded data removed]",
      "text/plain": [
       "<VegaLite 3 object>\n",
       "\n",
       "If you see this message, it means the renderer has not been properly enabled\n",
       "for the frontend that you are using. For more information, see\n",
       "https://altair-viz.github.io/user_guide/troubleshooting.html\n"
      ]
     },
     "execution_count": 34,
     "metadata": {},
     "output_type": "execute_result"
    }
   ],
   "source": [
    "alt.Chart(sample).mark_bar().encode(\n",
    "    y = \"area:N\",\n",
    "    x = \"sales:Q\",\n",
    "    color = \"area:N\"\n",
    ")"
   ]
  },
  {
   "cell_type": "code",
   "execution_count": 35,
   "metadata": {},
   "outputs": [
    {
     "data": {
      "application/vnd.vegalite.v3+json": {
       "$schema": "https://vega.github.io/schema/vega-lite/v3.4.0.json",
       "config": {
        "mark": {
         "tooltip": null
        },
        "view": {
         "height": 300,
         "width": 400
        }
       },
       "data": {
        "name": "data-e9a1bf97bac3c6f8642dc2ef7d8e4b49"
       },
       "datasets": {
        "data-e9a1bf97bac3c6f8642dc2ef7d8e4b49": [
         {
          "area": "North",
          "profit": 2,
          "sales": 5
         },
         {
          "area": "East",
          "profit": 8,
          "sales": 25
         },
         {
          "area": "West",
          "profit": 6,
          "sales": 15
         },
         {
          "area": "South",
          "profit": 5,
          "sales": 20
         },
         {
          "area": "Central",
          "profit": 3,
          "sales": 10
         }
        ]
       },
       "encoding": {
        "color": {
         "field": "area",
         "type": "nominal"
        },
        "size": {
         "field": "profit",
         "type": "quantitative"
        },
        "x": {
         "field": "sales",
         "type": "quantitative"
        },
        "y": {
         "field": "area",
         "type": "nominal"
        }
       },
       "mark": "bar"
      },
      "image/png": "[encoded data removed]",
      "text/plain": [
       "<VegaLite 3 object>\n",
       "\n",
       "If you see this message, it means the renderer has not been properly enabled\n",
       "for the frontend that you are using. For more information, see\n",
       "https://altair-viz.github.io/user_guide/troubleshooting.html\n"
      ]
     },
     "execution_count": 35,
     "metadata": {},
     "output_type": "execute_result"
    }
   ],
   "source": [
    "alt.Chart(sample).mark_bar().encode(\n",
    "    y = \"area:N\",\n",
    "    x = \"sales:Q\",\n",
    "    color = \"area:N\",\n",
    "    size = \"profit:Q\"\n",
    ")"
   ]
  },
  {
   "cell_type": "markdown",
   "metadata": {},
   "source": [
    "# Longhand version\n",
    "\n",
    "Altair object of X, Y, Color, ..."
   ]
  },
  {
   "cell_type": "code",
   "execution_count": 44,
   "metadata": {},
   "outputs": [],
   "source": [
    "vis1 = alt.Chart(sample).mark_bar().encode(\n",
    "    alt.Y(field=\"area\", type=\"nominal\"),\n",
    "    alt.X(field=\"sales\", type=\"quantitative\"),\n",
    "    alt.Color(field= \"area\", type=\"nominal\")\n",
    ")"
   ]
  },
  {
   "cell_type": "code",
   "execution_count": 45,
   "metadata": {},
   "outputs": [
    {
     "data": {
      "application/vnd.vegalite.v3+json": {
       "$schema": "https://vega.github.io/schema/vega-lite/v3.4.0.json",
       "config": {
        "mark": {
         "tooltip": null
        },
        "view": {
         "height": 300,
         "width": 400
        }
       },
       "data": {
        "name": "data-e9a1bf97bac3c6f8642dc2ef7d8e4b49"
       },
       "datasets": {
        "data-e9a1bf97bac3c6f8642dc2ef7d8e4b49": [
         {
          "area": "North",
          "profit": 2,
          "sales": 5
         },
         {
          "area": "East",
          "profit": 8,
          "sales": 25
         },
         {
          "area": "West",
          "profit": 6,
          "sales": 15
         },
         {
          "area": "South",
          "profit": 5,
          "sales": 20
         },
         {
          "area": "Central",
          "profit": 3,
          "sales": 10
         }
        ]
       },
       "encoding": {
        "color": {
         "field": "area",
         "type": "nominal"
        },
        "x": {
         "field": "sales",
         "type": "quantitative"
        },
        "y": {
         "field": "area",
         "type": "nominal"
        }
       },
       "mark": "bar"
      },
      "image/png": "[encoded data removed]",
      "text/plain": [
       "<VegaLite 3 object>\n",
       "\n",
       "If you see this message, it means the renderer has not been properly enabled\n",
       "for the frontend that you are using. For more information, see\n",
       "https://altair-viz.github.io/user_guide/troubleshooting.html\n"
      ]
     },
     "execution_count": 45,
     "metadata": {},
     "output_type": "execute_result"
    }
   ],
   "source": [
    "vis1"
   ]
  },
  {
   "cell_type": "markdown",
   "metadata": {},
   "source": [
    "## Linkage to Vega-lite"
   ]
  },
  {
   "cell_type": "code",
   "execution_count": 48,
   "metadata": {},
   "outputs": [
    {
     "name": "stdout",
     "output_type": "stream",
     "text": [
      "{\n",
      "  \"$schema\": \"https://vega.github.io/schema/vega-lite/v3.4.0.json\",\n",
      "  \"config\": {\n",
      "    \"mark\": {\n",
      "      \"tooltip\": null\n",
      "    },\n",
      "    \"view\": {\n",
      "      \"height\": 300,\n",
      "      \"width\": 400\n",
      "    }\n",
      "  },\n",
      "  \"data\": {\n",
      "    \"name\": \"data-e9a1bf97bac3c6f8642dc2ef7d8e4b49\"\n",
      "  },\n",
      "  \"datasets\": {\n",
      "    \"data-e9a1bf97bac3c6f8642dc2ef7d8e4b49\": [\n",
      "      {\n",
      "        \"area\": \"North\",\n",
      "        \"profit\": 2,\n",
      "        \"sales\": 5\n",
      "      },\n",
      "      {\n",
      "        \"area\": \"East\",\n",
      "        \"profit\": 8,\n",
      "        \"sales\": 25\n",
      "      },\n",
      "      {\n",
      "        \"area\": \"West\",\n",
      "        \"profit\": 6,\n",
      "        \"sales\": 15\n",
      "      },\n",
      "      {\n",
      "        \"area\": \"South\",\n",
      "        \"profit\": 5,\n",
      "        \"sales\": 20\n",
      "      },\n",
      "      {\n",
      "        \"area\": \"Central\",\n",
      "        \"profit\": 3,\n",
      "        \"sales\": 10\n",
      "      }\n",
      "    ]\n",
      "  },\n",
      "  \"encoding\": {\n",
      "    \"color\": {\n",
      "      \"field\": \"area\",\n",
      "      \"type\": \"nominal\"\n",
      "    },\n",
      "    \"x\": {\n",
      "      \"field\": \"sales\",\n",
      "      \"type\": \"quantitative\"\n",
      "    },\n",
      "    \"y\": {\n",
      "      \"field\": \"area\",\n",
      "      \"type\": \"nominal\"\n",
      "    }\n",
      "  },\n",
      "  \"mark\": \"bar\"\n",
      "}\n"
     ]
    }
   ],
   "source": [
    "print(vis1.to_json())"
   ]
  },
  {
   "cell_type": "code",
   "execution_count": 50,
   "metadata": {},
   "outputs": [
    {
     "name": "stdout",
     "output_type": "stream",
     "text": [
      "{\n",
      "  \"field\": \"sales\",\n",
      "  \"type\": \"quantitative\"\n",
      "}\n"
     ]
    }
   ],
   "source": [
    "x = alt.X(\"sales:Q\")\n",
    "print(x.to_json())"
   ]
  },
  {
   "cell_type": "markdown",
   "metadata": {},
   "source": [
    "## Annotations"
   ]
  },
  {
   "cell_type": "code",
   "execution_count": 54,
   "metadata": {},
   "outputs": [
    {
     "data": {
      "application/vnd.vegalite.v3+json": {
       "$schema": "https://vega.github.io/schema/vega-lite/v3.4.0.json",
       "config": {
        "mark": {
         "tooltip": null
        },
        "view": {
         "height": 300,
         "width": 400
        }
       },
       "data": {
        "name": "data-e9a1bf97bac3c6f8642dc2ef7d8e4b49"
       },
       "datasets": {
        "data-e9a1bf97bac3c6f8642dc2ef7d8e4b49": [
         {
          "area": "North",
          "profit": 2,
          "sales": 5
         },
         {
          "area": "East",
          "profit": 8,
          "sales": 25
         },
         {
          "area": "West",
          "profit": 6,
          "sales": 15
         },
         {
          "area": "South",
          "profit": 5,
          "sales": 20
         },
         {
          "area": "Central",
          "profit": 3,
          "sales": 10
         }
        ]
       },
       "encoding": {
        "color": {
         "field": "area",
         "type": "nominal"
        },
        "x": {
         "axis": {
          "title": "Circle Areas"
         },
         "field": "sales",
         "type": "quantitative"
        },
        "y": {
         "axis": {
          "title": "Sales in INR Million"
         },
         "field": "area",
         "type": "nominal"
        }
       },
       "mark": "bar"
      },
      "image/png": "[encoded data removed]",
      "text/plain": [
       "<VegaLite 3 object>\n",
       "\n",
       "If you see this message, it means the renderer has not been properly enabled\n",
       "for the frontend that you are using. For more information, see\n",
       "https://altair-viz.github.io/user_guide/troubleshooting.html\n"
      ]
     },
     "execution_count": 54,
     "metadata": {},
     "output_type": "execute_result"
    }
   ],
   "source": [
    "alt.Chart(sample).mark_bar().encode(\n",
    "    alt.Y(\"area:N\", axis=alt.Axis(title=\"Sales in INR Million\")),\n",
    "    alt.X(\"sales:Q\", axis=alt.Axis(title=\"Circle Areas\")),\n",
    "    alt.Color(field= \"area\", type=\"nominal\")\n",
    ")"
   ]
  },
  {
   "cell_type": "markdown",
   "metadata": {},
   "source": [
    "## Compositions\n",
    "\n",
    "- Layer -> Overlay\n",
    "- Concat the charts -> Horizontal or Vertical"
   ]
  },
  {
   "cell_type": "code",
   "execution_count": 60,
   "metadata": {},
   "outputs": [
    {
     "data": {
      "application/vnd.vegalite.v3+json": {
       "$schema": "https://vega.github.io/schema/vega-lite/v3.4.0.json",
       "config": {
        "mark": {
         "tooltip": null
        },
        "view": {
         "height": 300,
         "width": 400
        }
       },
       "data": {
        "name": "data-e9a1bf97bac3c6f8642dc2ef7d8e4b49"
       },
       "datasets": {
        "data-e9a1bf97bac3c6f8642dc2ef7d8e4b49": [
         {
          "area": "North",
          "profit": 2,
          "sales": 5
         },
         {
          "area": "East",
          "profit": 8,
          "sales": 25
         },
         {
          "area": "West",
          "profit": 6,
          "sales": 15
         },
         {
          "area": "South",
          "profit": 5,
          "sales": 20
         },
         {
          "area": "Central",
          "profit": 3,
          "sales": 10
         }
        ]
       },
       "encoding": {
        "color": {
         "value": "green"
        },
        "x": {
         "field": "sales",
         "type": "quantitative"
        },
        "y": {
         "field": "area",
         "type": "nominal"
        }
       },
       "mark": "bar"
      },
      "image/png": "[encoded data removed]",
      "text/plain": [
       "<VegaLite 3 object>\n",
       "\n",
       "If you see this message, it means the renderer has not been properly enabled\n",
       "for the frontend that you are using. For more information, see\n",
       "https://altair-viz.github.io/user_guide/troubleshooting.html\n"
      ]
     },
     "execution_count": 60,
     "metadata": {},
     "output_type": "execute_result"
    }
   ],
   "source": [
    "sales_chart = alt.Chart(sample).mark_bar().encode(\n",
    "    alt.Y(\"area:N\"),\n",
    "    alt.X(\"sales:Q\"),\n",
    "    alt.Color(value=\"green\")\n",
    ")\n",
    "\n",
    "sales_chart"
   ]
  },
  {
   "cell_type": "code",
   "execution_count": 65,
   "metadata": {},
   "outputs": [
    {
     "data": {
      "application/vnd.vegalite.v3+json": {
       "$schema": "https://vega.github.io/schema/vega-lite/v3.4.0.json",
       "config": {
        "mark": {
         "tooltip": null
        },
        "view": {
         "height": 300,
         "width": 400
        }
       },
       "data": {
        "name": "data-e9a1bf97bac3c6f8642dc2ef7d8e4b49"
       },
       "datasets": {
        "data-e9a1bf97bac3c6f8642dc2ef7d8e4b49": [
         {
          "area": "North",
          "profit": 2,
          "sales": 5
         },
         {
          "area": "East",
          "profit": 8,
          "sales": 25
         },
         {
          "area": "West",
          "profit": 6,
          "sales": 15
         },
         {
          "area": "South",
          "profit": 5,
          "sales": 20
         },
         {
          "area": "Central",
          "profit": 3,
          "sales": 10
         }
        ]
       },
       "encoding": {
        "color": {
         "value": "brown"
        },
        "x": {
         "field": "profit",
         "type": "quantitative"
        },
        "y": {
         "field": "area",
         "type": "nominal"
        }
       },
       "mark": "bar"
      },
      "image/png": "[encoded data removed]",
      "text/plain": [
       "<VegaLite 3 object>\n",
       "\n",
       "If you see this message, it means the renderer has not been properly enabled\n",
       "for the frontend that you are using. For more information, see\n",
       "https://altair-viz.github.io/user_guide/troubleshooting.html\n"
      ]
     },
     "execution_count": 65,
     "metadata": {},
     "output_type": "execute_result"
    }
   ],
   "source": [
    "profit_chart = alt.Chart(sample).mark_bar().encode(\n",
    "    alt.Y(\"area:N\"),\n",
    "    alt.X(\"profit:Q\"),\n",
    "    alt.Color(value=\"brown\")\n",
    ")\n",
    "\n",
    "profit_chart"
   ]
  },
  {
   "cell_type": "code",
   "execution_count": 66,
   "metadata": {},
   "outputs": [
    {
     "data": {
      "application/vnd.vegalite.v3+json": {
       "$schema": "https://vega.github.io/schema/vega-lite/v3.4.0.json",
       "config": {
        "mark": {
         "tooltip": null
        },
        "view": {
         "height": 300,
         "width": 400
        }
       },
       "data": {
        "name": "data-e9a1bf97bac3c6f8642dc2ef7d8e4b49"
       },
       "datasets": {
        "data-e9a1bf97bac3c6f8642dc2ef7d8e4b49": [
         {
          "area": "North",
          "profit": 2,
          "sales": 5
         },
         {
          "area": "East",
          "profit": 8,
          "sales": 25
         },
         {
          "area": "West",
          "profit": 6,
          "sales": 15
         },
         {
          "area": "South",
          "profit": 5,
          "sales": 20
         },
         {
          "area": "Central",
          "profit": 3,
          "sales": 10
         }
        ]
       },
       "layer": [
        {
         "encoding": {
          "color": {
           "value": "green"
          },
          "x": {
           "field": "sales",
           "type": "quantitative"
          },
          "y": {
           "field": "area",
           "type": "nominal"
          }
         },
         "mark": "bar"
        },
        {
         "encoding": {
          "color": {
           "value": "brown"
          },
          "x": {
           "field": "profit",
           "type": "quantitative"
          },
          "y": {
           "field": "area",
           "type": "nominal"
          }
         },
         "mark": "bar"
        }
       ]
      },
      "image/png": "[encoded data removed]",
      "text/plain": [
       "<VegaLite 3 object>\n",
       "\n",
       "If you see this message, it means the renderer has not been properly enabled\n",
       "for the frontend that you are using. For more information, see\n",
       "https://altair-viz.github.io/user_guide/troubleshooting.html\n"
      ]
     },
     "execution_count": 66,
     "metadata": {},
     "output_type": "execute_result"
    }
   ],
   "source": [
    "# Layer them - Overlay Styel\n",
    "sales_chart + profit_chart"
   ]
  },
  {
   "cell_type": "code",
   "execution_count": 67,
   "metadata": {},
   "outputs": [
    {
     "data": {
      "application/vnd.vegalite.v3+json": {
       "$schema": "https://vega.github.io/schema/vega-lite/v3.4.0.json",
       "config": {
        "mark": {
         "tooltip": null
        },
        "view": {
         "height": 300,
         "width": 400
        }
       },
       "data": {
        "name": "data-e9a1bf97bac3c6f8642dc2ef7d8e4b49"
       },
       "datasets": {
        "data-e9a1bf97bac3c6f8642dc2ef7d8e4b49": [
         {
          "area": "North",
          "profit": 2,
          "sales": 5
         },
         {
          "area": "East",
          "profit": 8,
          "sales": 25
         },
         {
          "area": "West",
          "profit": 6,
          "sales": 15
         },
         {
          "area": "South",
          "profit": 5,
          "sales": 20
         },
         {
          "area": "Central",
          "profit": 3,
          "sales": 10
         }
        ]
       },
       "hconcat": [
        {
         "encoding": {
          "color": {
           "value": "green"
          },
          "x": {
           "field": "sales",
           "type": "quantitative"
          },
          "y": {
           "field": "area",
           "type": "nominal"
          }
         },
         "mark": "bar"
        },
        {
         "encoding": {
          "color": {
           "value": "brown"
          },
          "x": {
           "field": "profit",
           "type": "quantitative"
          },
          "y": {
           "field": "area",
           "type": "nominal"
          }
         },
         "mark": "bar"
        }
       ]
      },
      "image/png": "[encoded data removed]",
      "text/plain": [
       "<VegaLite 3 object>\n",
       "\n",
       "If you see this message, it means the renderer has not been properly enabled\n",
       "for the frontend that you are using. For more information, see\n",
       "https://altair-viz.github.io/user_guide/troubleshooting.html\n"
      ]
     },
     "execution_count": 67,
     "metadata": {},
     "output_type": "execute_result"
    }
   ],
   "source": [
    "sales_chart | profit_chart"
   ]
  },
  {
   "cell_type": "code",
   "execution_count": 73,
   "metadata": {},
   "outputs": [
    {
     "data": {
      "application/vnd.vegalite.v3+json": {
       "$schema": "https://vega.github.io/schema/vega-lite/v3.4.0.json",
       "concat": [
        {
         "encoding": {
          "color": {
           "value": "green"
          },
          "x": {
           "field": "sales",
           "type": "quantitative"
          },
          "y": {
           "field": "area",
           "type": "nominal"
          }
         },
         "mark": "bar"
        },
        {
         "encoding": {
          "color": {
           "value": "brown"
          },
          "x": {
           "field": "profit",
           "type": "quantitative"
          },
          "y": {
           "field": "area",
           "type": "nominal"
          }
         },
         "mark": "bar"
        }
       ],
       "config": {
        "mark": {
         "tooltip": null
        },
        "view": {
         "height": 300,
         "width": 400
        }
       },
       "data": {
        "name": "data-e9a1bf97bac3c6f8642dc2ef7d8e4b49"
       },
       "datasets": {
        "data-e9a1bf97bac3c6f8642dc2ef7d8e4b49": [
         {
          "area": "North",
          "profit": 2,
          "sales": 5
         },
         {
          "area": "East",
          "profit": 8,
          "sales": 25
         },
         {
          "area": "West",
          "profit": 6,
          "sales": 15
         },
         {
          "area": "South",
          "profit": 5,
          "sales": 20
         },
         {
          "area": "Central",
          "profit": 3,
          "sales": 10
         }
        ]
       }
      },
      "image/png": "[encoded data removed]",
      "text/plain": [
       "<VegaLite 3 object>\n",
       "\n",
       "If you see this message, it means the renderer has not been properly enabled\n",
       "for the frontend that you are using. For more information, see\n",
       "https://altair-viz.github.io/user_guide/troubleshooting.html\n"
      ]
     },
     "execution_count": 73,
     "metadata": {},
     "output_type": "execute_result"
    }
   ],
   "source": [
    "alt.concat(sales_chart, profit_chart)"
   ]
  },
  {
   "cell_type": "code",
   "execution_count": 77,
   "metadata": {},
   "outputs": [
    {
     "data": {
      "application/vnd.vegalite.v3+json": {
       "$schema": "https://vega.github.io/schema/vega-lite/v3.4.0.json",
       "config": {
        "mark": {
         "tooltip": null
        },
        "view": {
         "height": 300,
         "width": 400
        }
       },
       "data": {
        "name": "data-e9a1bf97bac3c6f8642dc2ef7d8e4b49"
       },
       "datasets": {
        "data-e9a1bf97bac3c6f8642dc2ef7d8e4b49": [
         {
          "area": "North",
          "profit": 2,
          "sales": 5
         },
         {
          "area": "East",
          "profit": 8,
          "sales": 25
         },
         {
          "area": "West",
          "profit": 6,
          "sales": 15
         },
         {
          "area": "South",
          "profit": 5,
          "sales": 20
         },
         {
          "area": "Central",
          "profit": 3,
          "sales": 10
         }
        ]
       },
       "vconcat": [
        {
         "encoding": {
          "color": {
           "value": "green"
          },
          "x": {
           "field": "sales",
           "type": "quantitative"
          },
          "y": {
           "field": "area",
           "type": "nominal"
          }
         },
         "mark": "bar"
        },
        {
         "encoding": {
          "color": {
           "value": "brown"
          },
          "x": {
           "field": "profit",
           "type": "quantitative"
          },
          "y": {
           "field": "area",
           "type": "nominal"
          }
         },
         "mark": "bar"
        }
       ]
      },
      "image/png": "[encoded data removed]",
      "text/plain": [
       "<VegaLite 3 object>\n",
       "\n",
       "If you see this message, it means the renderer has not been properly enabled\n",
       "for the frontend that you are using. For more information, see\n",
       "https://altair-viz.github.io/user_guide/troubleshooting.html\n"
      ]
     },
     "execution_count": 77,
     "metadata": {},
     "output_type": "execute_result"
    }
   ],
   "source": [
    "alt.vconcat(sales_chart, profit_chart)"
   ]
  },
  {
   "cell_type": "markdown",
   "metadata": {},
   "source": [
    "## Interactivity"
   ]
  },
  {
   "cell_type": "markdown",
   "metadata": {},
   "source": [
    "Basic Interactive - Panning & Zooming"
   ]
  },
  {
   "cell_type": "code",
   "execution_count": 98,
   "metadata": {},
   "outputs": [],
   "source": [
    "vis2 = alt.Chart(sample).mark_circle().encode(\n",
    "    alt.Size(value=400),\n",
    "    alt.Tooltip(\"area:N\"),\n",
    "    x = \"sales:Q\",\n",
    "    y = \"profit:Q\",\n",
    "    color = \"area:N\",\n",
    "    \n",
    ").interactive()"
   ]
  },
  {
   "cell_type": "code",
   "execution_count": 100,
   "metadata": {},
   "outputs": [],
   "source": [
    "vis2.save(\"simple.html\")"
   ]
  },
  {
   "cell_type": "code",
   "execution_count": null,
   "metadata": {},
   "outputs": [],
   "source": []
  }
 ],
 "metadata": {
  "kernelspec": {
   "display_name": "Python 3",
   "language": "python",
   "name": "python3"
  },
  "language_info": {
   "codemirror_mode": {
    "name": "ipython",
    "version": 3
   },
   "file_extension": ".py",
   "mimetype": "text/x-python",
   "name": "python",
   "nbconvert_exporter": "python",
   "pygments_lexer": "ipython3",
   "version": "3.6.7"
  }
 },
 "nbformat": 4,
 "nbformat_minor": 4
}
