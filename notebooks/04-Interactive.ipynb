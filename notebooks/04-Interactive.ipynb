{
 "cells": [
  {
   "cell_type": "markdown",
   "metadata": {},
   "source": [
    "# Interactive Plots"
   ]
  },
  {
   "cell_type": "code",
   "execution_count": 1,
   "metadata": {},
   "outputs": [],
   "source": [
    "import pandas as pd\n",
    "import altair as alt"
   ]
  },
  {
   "cell_type": "code",
   "execution_count": 3,
   "metadata": {},
   "outputs": [],
   "source": [
    "sample = pd.read_csv(\"../data/sample.csv\")"
   ]
  },
  {
   "cell_type": "code",
   "execution_count": 4,
   "metadata": {},
   "outputs": [
    {
     "data": {
      "text/html": [
       "<div>\n",
       "<style scoped>\n",
       "    .dataframe tbody tr th:only-of-type {\n",
       "        vertical-align: middle;\n",
       "    }\n",
       "\n",
       "    .dataframe tbody tr th {\n",
       "        vertical-align: top;\n",
       "    }\n",
       "\n",
       "    .dataframe thead th {\n",
       "        text-align: right;\n",
       "    }\n",
       "</style>\n",
       "<table border=\"1\" class=\"dataframe\">\n",
       "  <thead>\n",
       "    <tr style=\"text-align: right;\">\n",
       "      <th></th>\n",
       "      <th>area</th>\n",
       "      <th>sales</th>\n",
       "      <th>profit</th>\n",
       "    </tr>\n",
       "  </thead>\n",
       "  <tbody>\n",
       "    <tr>\n",
       "      <td>0</td>\n",
       "      <td>North</td>\n",
       "      <td>5</td>\n",
       "      <td>2</td>\n",
       "    </tr>\n",
       "    <tr>\n",
       "      <td>1</td>\n",
       "      <td>East</td>\n",
       "      <td>25</td>\n",
       "      <td>8</td>\n",
       "    </tr>\n",
       "    <tr>\n",
       "      <td>2</td>\n",
       "      <td>West</td>\n",
       "      <td>15</td>\n",
       "      <td>6</td>\n",
       "    </tr>\n",
       "    <tr>\n",
       "      <td>3</td>\n",
       "      <td>South</td>\n",
       "      <td>20</td>\n",
       "      <td>5</td>\n",
       "    </tr>\n",
       "    <tr>\n",
       "      <td>4</td>\n",
       "      <td>Central</td>\n",
       "      <td>10</td>\n",
       "      <td>3</td>\n",
       "    </tr>\n",
       "  </tbody>\n",
       "</table>\n",
       "</div>"
      ],
      "text/plain": [
       "      area  sales  profit\n",
       "0    North      5       2\n",
       "1     East     25       8\n",
       "2     West     15       6\n",
       "3    South     20       5\n",
       "4  Central     10       3"
      ]
     },
     "execution_count": 4,
     "metadata": {},
     "output_type": "execute_result"
    }
   ],
   "source": [
    "sample"
   ]
  },
  {
   "cell_type": "markdown",
   "metadata": {},
   "source": [
    "### Selection"
   ]
  },
  {
   "cell_type": "code",
   "execution_count": 10,
   "metadata": {},
   "outputs": [],
   "source": [
    "\n",
    "base = alt.Chart(sample).mark_bar().encode(\n",
    "    x=\"area:N\",\n",
    "    y=\"sales:Q\"\n",
    ")\n"
   ]
  },
  {
   "cell_type": "code",
   "execution_count": 9,
   "metadata": {},
   "outputs": [
    {
     "data": {
      "application/vnd.vegalite.v3+json": {
       "$schema": "https://vega.github.io/schema/vega-lite/v3.4.0.json",
       "config": {
        "mark": {
         "tooltip": null
        },
        "view": {
         "height": 300,
         "width": 400
        }
       },
       "data": {
        "name": "data-e9a1bf97bac3c6f8642dc2ef7d8e4b49"
       },
       "datasets": {
        "data-e9a1bf97bac3c6f8642dc2ef7d8e4b49": [
         {
          "area": "North",
          "profit": 2,
          "sales": 5
         },
         {
          "area": "East",
          "profit": 8,
          "sales": 25
         },
         {
          "area": "West",
          "profit": 6,
          "sales": 15
         },
         {
          "area": "South",
          "profit": 5,
          "sales": 20
         },
         {
          "area": "Central",
          "profit": 3,
          "sales": 10
         }
        ]
       },
       "encoding": {
        "x": {
         "field": "area",
         "type": "nominal"
        },
        "y": {
         "field": "sales",
         "type": "quantitative"
        }
       },
       "mark": "bar"
      },
      "image/png": "[encoded data removed]",
      "text/plain": [
       "<VegaLite 3 object>\n",
       "\n",
       "If you see this message, it means the renderer has not been properly enabled\n",
       "for the frontend that you are using. For more information, see\n",
       "https://altair-viz.github.io/user_guide/troubleshooting.html\n"
      ]
     },
     "execution_count": 9,
     "metadata": {},
     "output_type": "execute_result"
    }
   ],
   "source": [
    "base"
   ]
  },
  {
   "cell_type": "code",
   "execution_count": 13,
   "metadata": {},
   "outputs": [
    {
     "data": {
      "application/vnd.vegalite.v3+json": {
       "$schema": "https://vega.github.io/schema/vega-lite/v3.4.0.json",
       "config": {
        "mark": {
         "tooltip": null
        },
        "view": {
         "height": 300,
         "width": 400
        }
       },
       "data": {
        "name": "data-e9a1bf97bac3c6f8642dc2ef7d8e4b49"
       },
       "datasets": {
        "data-e9a1bf97bac3c6f8642dc2ef7d8e4b49": [
         {
          "area": "North",
          "profit": 2,
          "sales": 5
         },
         {
          "area": "East",
          "profit": 8,
          "sales": 25
         },
         {
          "area": "West",
          "profit": 6,
          "sales": 15
         },
         {
          "area": "South",
          "profit": 5,
          "sales": 20
         },
         {
          "area": "Central",
          "profit": 3,
          "sales": 10
         }
        ]
       },
       "encoding": {
        "color": {
         "condition": {
          "selection": "selector004",
          "value": "red"
         },
         "value": "blue"
        },
        "x": {
         "field": "area",
         "type": "nominal"
        },
        "y": {
         "field": "sales",
         "type": "quantitative"
        }
       },
       "mark": "bar",
       "selection": {
        "selector004": {
         "type": "single"
        }
       }
      },
      "image/png": "[encoded data removed]",
      "text/plain": [
       "<VegaLite 3 object>\n",
       "\n",
       "If you see this message, it means the renderer has not been properly enabled\n",
       "for the frontend that you are using. For more information, see\n",
       "https://altair-viz.github.io/user_guide/troubleshooting.html\n"
      ]
     },
     "execution_count": 13,
     "metadata": {},
     "output_type": "execute_result"
    }
   ],
   "source": [
    "selection = alt.selection_single()\n",
    "\n",
    "base.add_selection(selection).encode(\n",
    "    color=alt.condition(selection, alt.value(\"red\"), alt.value(\"blue\"))\n",
    ")"
   ]
  },
  {
   "cell_type": "code",
   "execution_count": 20,
   "metadata": {},
   "outputs": [],
   "source": [
    "\n",
    "def plot(selection):\n",
    "    return alt.Chart(sample).mark_circle(size=200).add_selection(\n",
    "            selection\n",
    "            ).encode(\n",
    "            x=\"sales\",\n",
    "            y=\"profit\",\n",
    "            color = alt.condition(selection, \"area\", alt.value(\"grey\")),\n",
    "            opacity = alt.condition(selection, alt.value(0.8), alt.value(0.3))\n",
    "            ).properties(width=240, height=180)\n",
    "    "
   ]
  },
  {
   "cell_type": "code",
   "execution_count": 21,
   "metadata": {},
   "outputs": [
    {
     "data": {
      "application/vnd.vegalite.v3+json": {
       "$schema": "https://vega.github.io/schema/vega-lite/v3.4.0.json",
       "config": {
        "mark": {
         "tooltip": null
        },
        "view": {
         "height": 300,
         "width": 400
        }
       },
       "data": {
        "name": "data-e9a1bf97bac3c6f8642dc2ef7d8e4b49"
       },
       "datasets": {
        "data-e9a1bf97bac3c6f8642dc2ef7d8e4b49": [
         {
          "area": "North",
          "profit": 2,
          "sales": 5
         },
         {
          "area": "East",
          "profit": 8,
          "sales": 25
         },
         {
          "area": "West",
          "profit": 6,
          "sales": 15
         },
         {
          "area": "South",
          "profit": 5,
          "sales": 20
         },
         {
          "area": "Central",
          "profit": 3,
          "sales": 10
         }
        ]
       },
       "hconcat": [
        {
         "encoding": {
          "color": {
           "condition": {
            "field": "area",
            "selection": "selector011",
            "type": "nominal"
           },
           "value": "grey"
          },
          "opacity": {
           "condition": {
            "selection": "selector011",
            "value": 0.8
           },
           "value": 0.3
          },
          "x": {
           "field": "sales",
           "type": "quantitative"
          },
          "y": {
           "field": "profit",
           "type": "quantitative"
          }
         },
         "height": 180,
         "mark": {
          "size": 200,
          "type": "circle"
         },
         "selection": {
          "selector011": {
           "type": "single"
          }
         },
         "title": "Single (Click)",
         "width": 240
        },
        {
         "encoding": {
          "color": {
           "condition": {
            "field": "area",
            "selection": "selector012",
            "type": "nominal"
           },
           "value": "grey"
          },
          "opacity": {
           "condition": {
            "selection": "selector012",
            "value": 0.8
           },
           "value": 0.3
          },
          "x": {
           "field": "sales",
           "type": "quantitative"
          },
          "y": {
           "field": "profit",
           "type": "quantitative"
          }
         },
         "height": 180,
         "mark": {
          "size": 200,
          "type": "circle"
         },
         "selection": {
          "selector012": {
           "type": "multi"
          }
         },
         "title": "Multi (Shift+click)",
         "width": 240
        },
        {
         "encoding": {
          "color": {
           "condition": {
            "field": "area",
            "selection": "selector013",
            "type": "nominal"
           },
           "value": "grey"
          },
          "opacity": {
           "condition": {
            "selection": "selector013",
            "value": 0.8
           },
           "value": 0.3
          },
          "x": {
           "field": "sales",
           "type": "quantitative"
          },
          "y": {
           "field": "profit",
           "type": "quantitative"
          }
         },
         "height": 180,
         "mark": {
          "size": 200,
          "type": "circle"
         },
         "selection": {
          "selector013": {
           "type": "interval"
          }
         },
         "title": "Interval (Drag)",
         "width": 240
        }
       ]
      },
      "image/png": "[encoded data removed]",
      "text/plain": [
       "<VegaLite 3 object>\n",
       "\n",
       "If you see this message, it means the renderer has not been properly enabled\n",
       "for the frontend that you are using. For more information, see\n",
       "https://altair-viz.github.io/user_guide/troubleshooting.html\n"
      ]
     },
     "execution_count": 21,
     "metadata": {},
     "output_type": "execute_result"
    }
   ],
   "source": [
    "alt.hconcat(\n",
    "    plot(alt.selection_single()).properties(title=\"Single (Click)\"),\n",
    "    plot(alt.selection_multi()).properties(title=\"Multi (Shift+click)\"),\n",
    "    plot(alt.selection_interval()).properties(title=\"Interval (Drag)\"),\n",
    ")"
   ]
  },
  {
   "cell_type": "markdown",
   "metadata": {},
   "source": [
    "### Dynamic Queries"
   ]
  },
  {
   "cell_type": "code",
   "execution_count": 22,
   "metadata": {},
   "outputs": [
    {
     "data": {
      "text/plain": [
       "DataTransformerRegistry.enable('json')"
      ]
     },
     "execution_count": 22,
     "metadata": {},
     "output_type": "execute_result"
    }
   ],
   "source": [
    "churn = pd.read_csv(\"../data/churn.csv\")\n",
    "alt.data_transformers.enable('json')"
   ]
  },
  {
   "cell_type": "code",
   "execution_count": 32,
   "metadata": {},
   "outputs": [],
   "source": [
    "values = [i for i in churn.Churn.unique() if i]"
   ]
  },
  {
   "cell_type": "code",
   "execution_count": 33,
   "metadata": {},
   "outputs": [
    {
     "data": {
      "text/plain": [
       "['No', 'Yes']"
      ]
     },
     "execution_count": 33,
     "metadata": {},
     "output_type": "execute_result"
    }
   ],
   "source": [
    "values"
   ]
  },
  {
   "cell_type": "code",
   "execution_count": 34,
   "metadata": {},
   "outputs": [
    {
     "data": {
      "text/plain": [
       "array(['No', 'Yes'], dtype=object)"
      ]
     },
     "execution_count": 34,
     "metadata": {},
     "output_type": "execute_result"
    }
   ],
   "source": [
    "churn.Churn.unique()"
   ]
  },
  {
   "cell_type": "code",
   "execution_count": 36,
   "metadata": {},
   "outputs": [],
   "source": [
    "selectChurn = alt.selection_single(\n",
    "    name = \"Select\",\n",
    "    fields = ['Churn'],\n",
    "    init = {'Churn':values[0]},\n",
    "    bind = alt.binding_select(options=values)\n",
    ")"
   ]
  },
  {
   "cell_type": "code",
   "execution_count": 37,
   "metadata": {},
   "outputs": [
    {
     "data": {
      "application/vnd.vegalite.v3+json": {
       "$schema": "https://vega.github.io/schema/vega-lite/v3.4.0.json",
       "config": {
        "mark": {
         "tooltip": null
        },
        "view": {
         "height": 300,
         "width": 400
        }
       },
       "data": {
        "format": {
         "type": "json"
        },
        "url": "altair-data-a67a594eb874048f3163802c0071484b.json"
       },
       "encoding": {
        "x": {
         "bin": {
          "maxbins": 25
         },
         "field": "Tenure",
         "type": "quantitative"
        },
        "y": {
         "aggregate": "count",
         "title": "count",
         "type": "quantitative"
        }
       },
       "mark": "bar",
       "selection": {
        "Select": {
         "bind": {
          "input": "select",
          "options": [
           "No",
           "Yes"
          ]
         },
         "fields": [
          "Churn"
         ],
         "init": {
          "Churn": "No"
         },
         "type": "single"
        }
       },
       "transform": [
        {
         "filter": {
          "selection": "Select"
         }
        }
       ]
      },
      "image/png": "[encoded data removed]",
      "text/plain": [
       "<VegaLite 3 object>\n",
       "\n",
       "If you see this message, it means the renderer has not been properly enabled\n",
       "for the frontend that you are using. For more information, see\n",
       "https://altair-viz.github.io/user_guide/troubleshooting.html\n"
      ]
     },
     "execution_count": 37,
     "metadata": {},
     "output_type": "execute_result"
    }
   ],
   "source": [
    "alt.Chart(churn).mark_bar().add_selection(\n",
    "    selectChurn\n",
    ").encode(\n",
    "    alt.X(\"Tenure:Q\", bin=alt.BinParams(maxbins=25)),\n",
    "    alt.Y(\"count()\", title=\"count\")\n",
    ").transform_filter(selectChurn)"
   ]
  },
  {
   "cell_type": "markdown",
   "metadata": {},
   "source": [
    "### Cross filtering"
   ]
  },
  {
   "cell_type": "code",
   "execution_count": 39,
   "metadata": {},
   "outputs": [
    {
     "data": {
      "application/vnd.vegalite.v3+json": {
       "$schema": "https://vega.github.io/schema/vega-lite/v3.4.0.json",
       "config": {
        "mark": {
         "tooltip": null
        },
        "view": {
         "height": 300,
         "width": 400
        }
       },
       "data": {
        "format": {
         "type": "json"
        },
        "url": "altair-data-64527f2dc2588a553b1dd7f6fe5dd09e.json"
       },
       "vconcat": [
        {
         "encoding": {
          "x": {
           "field": "date",
           "scale": {
            "domain": {
             "selection": "selector015"
            }
           },
           "title": null,
           "type": "temporal"
          },
          "y": {
           "field": "price",
           "type": "quantitative"
          }
         },
         "mark": "area",
         "width": 700
        },
        {
         "encoding": {
          "x": {
           "field": "date",
           "title": null,
           "type": "temporal"
          },
          "y": {
           "field": "price",
           "type": "quantitative"
          }
         },
         "height": 60,
         "mark": "area",
         "selection": {
          "selector015": {
           "encodings": [
            "x"
           ],
           "type": "interval"
          }
         },
         "width": 700
        }
       ]
      },
      "image/png": "[encoded data removed]",
      "text/plain": [
       "<VegaLite 3 object>\n",
       "\n",
       "If you see this message, it means the renderer has not been properly enabled\n",
       "for the frontend that you are using. For more information, see\n",
       "https://altair-viz.github.io/user_guide/troubleshooting.html\n"
      ]
     },
     "execution_count": 39,
     "metadata": {},
     "output_type": "execute_result"
    }
   ],
   "source": [
    "sp500 = \"https://vega.github.io/vega-datasets/data/sp500.csv\"\n",
    "from vega_datasets import data\n",
    "sp500 = data.sp500()\n",
    "\n",
    "brush = alt.selection_interval(encodings=['x'])\n",
    "base = alt.Chart().mark_area().encode(\n",
    "    alt.X(\"date:T\", title=None),\n",
    "    alt.Y(\"price:Q\")\n",
    ").properties(\n",
    "    width=700\n",
    ")\n",
    "\n",
    "chart = alt.vconcat(\n",
    "    base.encode(alt.X(\"date:T\", title=None, scale=alt.Scale(domain=brush))),\n",
    "    base.add_selection(brush).properties(height=60),\n",
    "    data=sp500\n",
    ")\n",
    "chart"
   ]
  },
  {
   "cell_type": "code",
   "execution_count": null,
   "metadata": {},
   "outputs": [],
   "source": []
  }
 ],
 "metadata": {
  "kernelspec": {
   "display_name": "Python 3",
   "language": "python",
   "name": "python3"
  },
  "language_info": {
   "codemirror_mode": {
    "name": "ipython",
    "version": 3
   },
   "file_extension": ".py",
   "mimetype": "text/x-python",
   "name": "python",
   "nbconvert_exporter": "python",
   "pygments_lexer": "ipython3",
   "version": "3.6.7"
  }
 },
 "nbformat": 4,
 "nbformat_minor": 4
}
