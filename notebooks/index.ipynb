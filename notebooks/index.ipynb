{
 "cells": [
  {
   "cell_type": "markdown",
   "metadata": {},
   "source": [
    "# Data Vis Workshop - InClass Notebooks\n",
    "\n",
    "You can find it at https://amitkaps.com/data-vis-workshop/\n",
    "\n",
    "This is the html version of the in-class notebooks\n",
    "\n",
    "- [01-Simple](01-Simple.html)\n",
    "- [02-Telco-Basic](02-Telco-Basic.html)\n",
    "- [03-Facets](03-Facets.html)\n",
    "- [04-Interactive](04-Interactive.html)\n",
    "- [05-Chart-Serving](05-chart.py)"
   ]
  },
  {
   "cell_type": "code",
   "execution_count": null,
   "metadata": {},
   "outputs": [],
   "source": []
  }
 ],
 "metadata": {
  "kernelspec": {
   "display_name": "Python 3",
   "language": "python",
   "name": "python3"
  },
  "language_info": {
   "codemirror_mode": {
    "name": "ipython",
    "version": 3
   },
   "file_extension": ".py",
   "mimetype": "text/x-python",
   "name": "python",
   "nbconvert_exporter": "python",
   "pygments_lexer": "ipython3",
   "version": "3.6.7"
  }
 },
 "nbformat": 4,
 "nbformat_minor": 4
}
